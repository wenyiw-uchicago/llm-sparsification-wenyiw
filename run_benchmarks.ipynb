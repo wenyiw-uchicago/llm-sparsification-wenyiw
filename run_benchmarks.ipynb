{
 "cells": [
  {
   "cell_type": "code",
   "execution_count": null,
   "outputs": [],
   "source": [
    "model_name = 'gpt2-xl'\n"
   ],
   "metadata": {
    "collapsed": false
   }
  },
  {
   "cell_type": "code",
   "execution_count": null,
   "metadata": {
    "collapsed": true,
    "pycharm": {
     "is_executing": true
    }
   },
   "outputs": [],
   "source": [
    "# MLM - DeBerta example\n",
    "model_name = 'microsoft/deberta-v2-xlarge'\n",
    "!python huggingface/transformers/examples/pytorch/language-modeling/run_mlm.py \\\n",
    "    --model_name_or_path 'microsoft/deberta-v2-xlarge' \\\n",
    "    --tokenizer_name 'microsoft/deberta-v2-xlarge'\\\n",
    "    --dataset_name wikitext \\\n",
    "    --dataset_config_name wikitext-2-raw-v1 \\\n",
    "    --per_device_train_batch_size 8 \\\n",
    "    --per_device_eval_batch_size 8 \\\n",
    "    --do_eval \\\n",
    "    --output_dir results/'microsoft/deberta-v2-xlarge'"
   ]
  },
  {
   "cell_type": "code",
   "execution_count": null,
   "outputs": [],
   "source": [
    "# GLUE - GPT2 example\n",
    "!python huggingface/transformers/examples/pytorch/text-classification/run_glue.py \\\n",
    "  --model_name_or_path local-models/gpt2-0.0\\\n",
    "  --tokenizer_name local-models/gpt2-tokenizer\\\n",
    "  --task_name mnli \\\n",
    "  --do_eval \\\n",
    "  --max_seq_length 128 \\\n",
    "  --per_device_train_batch_size 32 \\\n",
    "  --learning_rate 2e-5 \\\n",
    "  --num_train_epochs 3 \\\n",
    "  --output_dir results/gpt2"
   ],
   "metadata": {
    "collapsed": false,
    "pycharm": {
     "is_executing": true
    }
   }
  },
  {
   "cell_type": "code",
   "execution_count": null,
   "outputs": [],
   "source": [
    "# T-5 translation example\n",
    "!python huggingface/transformers/examples/pytorch/translation/run_translation.py \\\n",
    "    --model_name_or_path t5-small \\\n",
    "    --do_eval \\\n",
    "    --source_lang en \\\n",
    "    --target_lang ro \\\n",
    "    --source_prefix \"translate English to Romanian: \" \\\n",
    "    --dataset_name wmt16 \\\n",
    "    --dataset_config_name ro-en \\\n",
    "    --output_dir resutls/translation \\\n",
    "    --per_device_train_batch_size=4 \\\n",
    "    --per_device_eval_batch_size=4 \\\n",
    "    --overwrite_output_dir \\\n",
    "    --predict_with_generate"
   ],
   "metadata": {
    "collapsed": false,
    "pycharm": {
     "is_executing": true
    }
   }
  },
  {
   "cell_type": "code",
   "execution_count": null,
   "outputs": [],
   "source": [],
   "metadata": {
    "collapsed": false,
    "pycharm": {
     "is_executing": true
    }
   }
  },
  {
   "cell_type": "code",
   "execution_count": null,
   "outputs": [],
   "source": [],
   "metadata": {
    "collapsed": false
   }
  }
 ],
 "metadata": {
  "kernelspec": {
   "display_name": "Python 3",
   "language": "python",
   "name": "python3"
  },
  "language_info": {
   "codemirror_mode": {
    "name": "ipython",
    "version": 2
   },
   "file_extension": ".py",
   "mimetype": "text/x-python",
   "name": "python",
   "nbconvert_exporter": "python",
   "pygments_lexer": "ipython2",
   "version": "2.7.6"
  }
 },
 "nbformat": 4,
 "nbformat_minor": 0
}
